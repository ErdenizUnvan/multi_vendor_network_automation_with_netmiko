{
 "cells": [
  {
   "cell_type": "code",
   "execution_count": 1,
   "id": "77da90ff",
   "metadata": {},
   "outputs": [
    {
     "name": "stdout",
     "output_type": "stream",
     "text": [
      "[{'uptime': '4 day(s), 17 hour(s), 26 minute(s), 36 second(s)', 'last_reboot_reason': 'Unknown', 'bios': '', 'os': '10.3(3) [Feature Release]', 'boot_image': 'bootflash:///nxos64-cs.10.3.3.F.bin', 'platform': 'C9300v', 'hostname': 'nxos', 'serial': '9M82ZHV54TR'}]\n"
     ]
    }
   ],
   "source": [
    "from netmiko import ConnectHandler\n",
    "nexus={\"ip\": \"sandbox-nxos-1.cisco.com\",\n",
    "        \"port\": 22,\n",
    "        \"username\": \"admin\",\n",
    "        \"password\": \"Admin_1234!\",\n",
    "        \"device_type\": \"cisco_nxos\"}\n",
    "conn=ConnectHandler(**nexus)\n",
    "output=conn.send_command('show version',use_textfsm=True)\n",
    "print(output)"
   ]
  },
  {
   "cell_type": "code",
   "execution_count": 2,
   "id": "35867279",
   "metadata": {},
   "outputs": [
    {
     "data": {
      "text/plain": [
       "{'uptime': '4 day(s), 17 hour(s), 26 minute(s), 36 second(s)',\n",
       " 'last_reboot_reason': 'Unknown',\n",
       " 'bios': '',\n",
       " 'os': '10.3(3) [Feature Release]',\n",
       " 'boot_image': 'bootflash:///nxos64-cs.10.3.3.F.bin',\n",
       " 'platform': 'C9300v',\n",
       " 'hostname': 'nxos',\n",
       " 'serial': '9M82ZHV54TR'}"
      ]
     },
     "execution_count": 2,
     "metadata": {},
     "output_type": "execute_result"
    }
   ],
   "source": [
    "output[0]"
   ]
  },
  {
   "cell_type": "code",
   "execution_count": 3,
   "id": "440d833f",
   "metadata": {},
   "outputs": [
    {
     "data": {
      "text/plain": [
       "'9M82ZHV54TR'"
      ]
     },
     "execution_count": 3,
     "metadata": {},
     "output_type": "execute_result"
    }
   ],
   "source": [
    "output[0]['serial']"
   ]
  },
  {
   "cell_type": "code",
   "execution_count": 4,
   "id": "235df36b",
   "metadata": {},
   "outputs": [
    {
     "name": "stdout",
     "output_type": "stream",
     "text": [
      "9M82ZHV54TR\n"
     ]
    }
   ],
   "source": [
    "from netmiko import ConnectHandler\n",
    "nexus={\"ip\": \"sandbox-nxos-1.cisco.com\",\n",
    "        \"port\": 22,\n",
    "        \"username\": \"admin\",\n",
    "        \"password\": \"Admin_1234!\",\n",
    "        \"device_type\": \"cisco_nxos\"}\n",
    "conn=ConnectHandler(**nexus)\n",
    "output=conn.send_command('show version',use_textfsm=True)\n",
    "print(output[0]['serial'])\n",
    "conn.disconnect()"
   ]
  },
  {
   "cell_type": "code",
   "execution_count": 5,
   "id": "618cf9af",
   "metadata": {},
   "outputs": [],
   "source": [
    "#########################################"
   ]
  },
  {
   "cell_type": "code",
   "execution_count": 6,
   "id": "23b4e285",
   "metadata": {},
   "outputs": [
    {
     "name": "stdout",
     "output_type": "stream",
     "text": [
      "[{'software_image': 'X86_64_LINUX_IOSD-UNIVERSALK9-M', 'version': '17.12.2', 'release': 'fc2', 'rommon': 'IOS-XE', 'hostname': 'Cat8000V', 'uptime': '2 hours, 27 minutes', 'uptime_years': '', 'uptime_weeks': '', 'uptime_days': '', 'uptime_hours': '2', 'uptime_minutes': '27', 'reload_reason': 'reload', 'running_image': 'packages.conf', 'hardware': ['C8000V'], 'serial': ['9OBXJHNNU5V'], 'config_register': '0x2102', 'mac_address': [], 'restarted': ''}]\n"
     ]
    }
   ],
   "source": [
    "from netmiko import ConnectHandler\n",
    "ios_xe={\"ip\": \"devnetsandboxiosxe.cisco.com\",\n",
    "        \"port\": 22,\n",
    "        \"username\": \"admin\",\n",
    "        \"password\": \"C1sco12345\",\n",
    "        \"device_type\": \"cisco_xe\"}\n",
    "conn=ConnectHandler(**ios_xe)\n",
    "output=conn.send_command('show version',use_textfsm=True)\n",
    "print(output)\n",
    "conn.disconnect()"
   ]
  },
  {
   "cell_type": "code",
   "execution_count": 7,
   "id": "55862137",
   "metadata": {},
   "outputs": [
    {
     "data": {
      "text/plain": [
       "{'software_image': 'X86_64_LINUX_IOSD-UNIVERSALK9-M',\n",
       " 'version': '17.12.2',\n",
       " 'release': 'fc2',\n",
       " 'rommon': 'IOS-XE',\n",
       " 'hostname': 'Cat8000V',\n",
       " 'uptime': '2 hours, 27 minutes',\n",
       " 'uptime_years': '',\n",
       " 'uptime_weeks': '',\n",
       " 'uptime_days': '',\n",
       " 'uptime_hours': '2',\n",
       " 'uptime_minutes': '27',\n",
       " 'reload_reason': 'reload',\n",
       " 'running_image': 'packages.conf',\n",
       " 'hardware': ['C8000V'],\n",
       " 'serial': ['9OBXJHNNU5V'],\n",
       " 'config_register': '0x2102',\n",
       " 'mac_address': [],\n",
       " 'restarted': ''}"
      ]
     },
     "execution_count": 7,
     "metadata": {},
     "output_type": "execute_result"
    }
   ],
   "source": [
    "output[0]"
   ]
  },
  {
   "cell_type": "code",
   "execution_count": 8,
   "id": "a8d6693d",
   "metadata": {},
   "outputs": [
    {
     "data": {
      "text/plain": [
       "['9OBXJHNNU5V']"
      ]
     },
     "execution_count": 8,
     "metadata": {},
     "output_type": "execute_result"
    }
   ],
   "source": [
    "output[0]['serial']"
   ]
  },
  {
   "cell_type": "code",
   "execution_count": 9,
   "id": "72b823ef",
   "metadata": {},
   "outputs": [
    {
     "data": {
      "text/plain": [
       "'9OBXJHNNU5V'"
      ]
     },
     "execution_count": 9,
     "metadata": {},
     "output_type": "execute_result"
    }
   ],
   "source": [
    "output[0]['serial'][0]"
   ]
  },
  {
   "cell_type": "code",
   "execution_count": 10,
   "id": "c4eb79f7",
   "metadata": {},
   "outputs": [
    {
     "name": "stdout",
     "output_type": "stream",
     "text": [
      "9OBXJHNNU5V\n"
     ]
    }
   ],
   "source": [
    "from netmiko import ConnectHandler\n",
    "ios_xe={\"ip\": \"devnetsandboxiosxe.cisco.com\",\n",
    "        \"port\": 22,\n",
    "        \"username\": \"admin\",\n",
    "        \"password\": \"C1sco12345\",\n",
    "        \"device_type\": \"cisco_xe\"}\n",
    "conn=ConnectHandler(**ios_xe)\n",
    "output=conn.send_command('show version',use_textfsm=True)\n",
    "print(output[0]['serial'][0])\n",
    "conn.disconnect()"
   ]
  },
  {
   "cell_type": "code",
   "execution_count": 11,
   "id": "e6489a5c",
   "metadata": {},
   "outputs": [],
   "source": [
    "#########################################"
   ]
  },
  {
   "cell_type": "code",
   "execution_count": 12,
   "id": "961eed4a",
   "metadata": {},
   "outputs": [
    {
     "name": "stdout",
     "output_type": "stream",
     "text": [
      "[{'software_image': 'C2960X-UNIVERSALK9-M', 'version': '15.0(2a)EX5', 'release': 'fc3', 'rommon': 'Bootstrap', 'hostname': 'SW1', 'uptime': '5 days, 6 hours, 49 minutes', 'uptime_years': '', 'uptime_weeks': '', 'uptime_days': '5', 'uptime_hours': '6', 'uptime_minutes': '49', 'reload_reason': 'power-on', 'running_image': '/c2960x-universalk9-mz.150-2a.EX5/c2960x-universalk9-mz.150-2a.EX5.bin', 'hardware': ['WS-C2960X-24PS-L'], 'serial': ['FOC1950S3HQ'], 'config_register': '0xF', 'mac_address': ['00:DA:55:A6:66:80'], 'restarted': '00:13:22 UTC Sat Jan 1 2000'}]\n"
     ]
    }
   ],
   "source": [
    "from netmiko import ConnectHandler\n",
    "ios={\"ip\": \"10.1.100.200\",\n",
    "        \"port\": 22,\n",
    "        \"username\": \"admin\",\n",
    "        \"password\": \"cisco123\",\n",
    "        \"device_type\": \"cisco_ios\"}\n",
    "conn=ConnectHandler(**ios)\n",
    "output=conn.send_command('show version',use_textfsm=True)\n",
    "print(output)\n",
    "conn.disconnect()"
   ]
  },
  {
   "cell_type": "code",
   "execution_count": 13,
   "id": "d85b8730",
   "metadata": {},
   "outputs": [
    {
     "data": {
      "text/plain": [
       "{'software_image': 'C2960X-UNIVERSALK9-M',\n",
       " 'version': '15.0(2a)EX5',\n",
       " 'release': 'fc3',\n",
       " 'rommon': 'Bootstrap',\n",
       " 'hostname': 'SW1',\n",
       " 'uptime': '5 days, 6 hours, 49 minutes',\n",
       " 'uptime_years': '',\n",
       " 'uptime_weeks': '',\n",
       " 'uptime_days': '5',\n",
       " 'uptime_hours': '6',\n",
       " 'uptime_minutes': '49',\n",
       " 'reload_reason': 'power-on',\n",
       " 'running_image': '/c2960x-universalk9-mz.150-2a.EX5/c2960x-universalk9-mz.150-2a.EX5.bin',\n",
       " 'hardware': ['WS-C2960X-24PS-L'],\n",
       " 'serial': ['FOC1950S3HQ'],\n",
       " 'config_register': '0xF',\n",
       " 'mac_address': ['00:DA:55:A6:66:80'],\n",
       " 'restarted': '00:13:22 UTC Sat Jan 1 2000'}"
      ]
     },
     "execution_count": 13,
     "metadata": {},
     "output_type": "execute_result"
    }
   ],
   "source": [
    "output[0]"
   ]
  },
  {
   "cell_type": "code",
   "execution_count": 14,
   "id": "8a4aaf5e",
   "metadata": {},
   "outputs": [
    {
     "data": {
      "text/plain": [
       "['FOC1950S3HQ']"
      ]
     },
     "execution_count": 14,
     "metadata": {},
     "output_type": "execute_result"
    }
   ],
   "source": [
    "output[0]['serial']"
   ]
  },
  {
   "cell_type": "code",
   "execution_count": 15,
   "id": "106b9c72",
   "metadata": {},
   "outputs": [
    {
     "data": {
      "text/plain": [
       "'FOC1950S3HQ'"
      ]
     },
     "execution_count": 15,
     "metadata": {},
     "output_type": "execute_result"
    }
   ],
   "source": [
    "output[0]['serial'][0]"
   ]
  },
  {
   "cell_type": "code",
   "execution_count": 16,
   "id": "01997a66",
   "metadata": {},
   "outputs": [
    {
     "name": "stdout",
     "output_type": "stream",
     "text": [
      "FOC1950S3HQ\n"
     ]
    }
   ],
   "source": [
    "from netmiko import ConnectHandler\n",
    "ios={\"ip\": \"10.1.100.200\",\n",
    "        \"port\": 22,\n",
    "        \"username\": \"admin\",\n",
    "        \"password\": \"cisco123\",\n",
    "        \"device_type\": \"cisco_ios\"}\n",
    "conn=ConnectHandler(**ios)\n",
    "output=conn.send_command('show version',use_textfsm=True)\n",
    "print(output[0]['serial'][0])\n",
    "conn.disconnect()"
   ]
  },
  {
   "cell_type": "code",
   "execution_count": 17,
   "id": "c2d782f8",
   "metadata": {},
   "outputs": [],
   "source": [
    "#########################################"
   ]
  },
  {
   "cell_type": "code",
   "execution_count": 18,
   "id": "539b438f",
   "metadata": {},
   "outputs": [
    {
     "name": "stdout",
     "output_type": "stream",
     "text": [
      "[{'name': '0/0', 'descr': 'Cisco IOS-XRv 9000 Centralized Line Card', 'pid': 'R-IOSXRV9000-LC-C', 'vid': 'V01', 'sn': '86E4A261046'}, {'name': '0/0/0', 'descr': 'N/A', 'pid': 'PORT-1G-NIC', 'vid': 'N/A', 'sn': 'N/A'}, {'name': '0/0/1', 'descr': 'N/A', 'pid': 'PORT-1G-NIC', 'vid': 'N/A', 'sn': 'N/A'}, {'name': '0/0/2', 'descr': 'N/A', 'pid': 'PORT-1G-NIC', 'vid': 'N/A', 'sn': 'N/A'}, {'name': '0/0/3', 'descr': 'N/A', 'pid': 'PORT-1G-NIC', 'vid': 'N/A', 'sn': 'N/A'}, {'name': '0/0/4', 'descr': 'N/A', 'pid': 'PORT-1G-NIC', 'vid': 'N/A', 'sn': 'N/A'}, {'name': '0/0/5', 'descr': 'N/A', 'pid': 'PORT-1G-NIC', 'vid': 'N/A', 'sn': 'N/A'}, {'name': '0/0/6', 'descr': 'N/A', 'pid': 'PORT-1G-NIC', 'vid': 'N/A', 'sn': 'N/A'}, {'name': '0/RP0', 'descr': 'Cisco IOS-XRv 9000 Centralized Route Processor', 'pid': 'R-IOSXRV9000-RP-C', 'vid': 'V01', 'sn': 'F2E02123A63'}, {'name': 'Rack 0', 'descr': 'Cisco IOS-XRv 9000 Centralized Virtual Router', 'pid': 'R-IOSXRV9000-CC', 'vid': 'V01', 'sn': 'B550ED1D0D9'}]\n"
     ]
    }
   ],
   "source": [
    "from netmiko import ConnectHandler\n",
    "device={\n",
    "      \"ip\": \"sandbox-iosxr-1.cisco.com\",\n",
    "      \"port\": 22,\n",
    "      \"username\": \"admin\",\n",
    "      \"password\": \"C1sco12345\",\n",
    "      \"device_type\": \"cisco_xr\",\n",
    "  }\n",
    "connection =ConnectHandler(**device)\n",
    "output=connection.send_command('show inventory',use_textfsm=True)\n",
    "print(output)\n",
    "connection.disconnect()"
   ]
  },
  {
   "cell_type": "code",
   "execution_count": 19,
   "id": "279ce848",
   "metadata": {},
   "outputs": [
    {
     "data": {
      "text/plain": [
       "10"
      ]
     },
     "execution_count": 19,
     "metadata": {},
     "output_type": "execute_result"
    }
   ],
   "source": [
    "len(output)"
   ]
  },
  {
   "cell_type": "code",
   "execution_count": 20,
   "id": "56b85d09",
   "metadata": {},
   "outputs": [
    {
     "name": "stdout",
     "output_type": "stream",
     "text": [
      "B550ED1D0D9\n"
     ]
    }
   ],
   "source": [
    "serial=[x['sn'] for x in output if x['name']=='Rack 0'][0]\n",
    "print(serial)"
   ]
  },
  {
   "cell_type": "code",
   "execution_count": 33,
   "id": "793cb62c",
   "metadata": {},
   "outputs": [
    {
     "name": "stdout",
     "output_type": "stream",
     "text": [
      "B550ED1D0D9\n"
     ]
    }
   ],
   "source": [
    "from netmiko import ConnectHandler\n",
    "device={\n",
    "      \"ip\": \"sandbox-iosxr-1.cisco.com\",\n",
    "      \"port\": 22,\n",
    "      \"username\": \"admin\",\n",
    "      \"password\": \"C1sco12345\",\n",
    "      \"device_type\": \"cisco_xr\",\n",
    "  }\n",
    "connection =ConnectHandler(**device)\n",
    "output=connection.send_command('show inventory',use_textfsm=True)\n",
    "serial=[x['sn'] for x in output if x['name']=='Rack 0'][0]\n",
    "print(serial)\n",
    "connection.disconnect()"
   ]
  },
  {
   "cell_type": "code",
   "execution_count": 22,
   "id": "c9ada26d",
   "metadata": {},
   "outputs": [],
   "source": [
    "#########################################"
   ]
  },
  {
   "cell_type": "code",
   "execution_count": 23,
   "id": "65717d7e",
   "metadata": {},
   "outputs": [
    {
     "name": "stdout",
     "output_type": "stream",
     "text": [
      "Slot  Sub  Serial-number          Manu-date\n",
      "- - - - - - - - - - - - - - - - - - - - - -\n",
      "0     -    210235276410C3000143   2012-03-15\n",
      "      1    020WYF10C6000630       2012-06-10\n"
     ]
    }
   ],
   "source": [
    "from netmiko import Netmiko\n",
    "conn=Netmiko(host='10.1.100.198',\n",
    "            username='admin',\n",
    "            password='Passw0rd1',\n",
    "            device_type='huawei')\n",
    "output=conn.send_command('display device manufacture-info',use_textfsm=True)\n",
    "print(output)\n",
    "conn.disconnect()"
   ]
  },
  {
   "cell_type": "code",
   "execution_count": 24,
   "id": "e5f7e861",
   "metadata": {},
   "outputs": [
    {
     "data": {
      "text/plain": [
       "['Slot  Sub  Serial-number          Manu-date',\n",
       " '- - - - - - - - - - - - - - - - - - - - - -',\n",
       " '0     -    210235276410C3000143   2012-03-15',\n",
       " '      1    020WYF10C6000630       2012-06-10']"
      ]
     },
     "execution_count": 24,
     "metadata": {},
     "output_type": "execute_result"
    }
   ],
   "source": [
    "data=output.splitlines()\n",
    "data"
   ]
  },
  {
   "cell_type": "code",
   "execution_count": 25,
   "id": "dfe98a1e",
   "metadata": {},
   "outputs": [
    {
     "name": "stdout",
     "output_type": "stream",
     "text": [
      "210235276410C3000143\n"
     ]
    }
   ],
   "source": [
    "for line in data:\n",
    "    if line.startswith('0'):\n",
    "        #print(line)\n",
    "        sonuc=line.split()\n",
    "        seri=sonuc[2]\n",
    "print(seri)"
   ]
  },
  {
   "cell_type": "code",
   "execution_count": 26,
   "id": "1688ef03",
   "metadata": {},
   "outputs": [
    {
     "name": "stdout",
     "output_type": "stream",
     "text": [
      "210235276410C3000143\n"
     ]
    }
   ],
   "source": [
    "from netmiko import Netmiko\n",
    "conn=Netmiko(host='10.1.100.198',\n",
    "            username='admin',\n",
    "            password='Passw0rd1',\n",
    "            device_type='huawei')\n",
    "output=conn.send_command('display device manufacture-info',use_textfsm=True)\n",
    "data=output.splitlines()\n",
    "for line in data:\n",
    "    if line.startswith('0'):\n",
    "        #print(line)\n",
    "        sonuc=line.split()\n",
    "        seri=sonuc[2]\n",
    "print(seri)\n",
    "conn.disconnect()"
   ]
  },
  {
   "cell_type": "code",
   "execution_count": null,
   "id": "2741f518-8e8c-4984-b51b-0690e2037f34",
   "metadata": {},
   "outputs": [],
   "source": [
    "#arista eos guncel ise:\n",
    "from netmiko import ConnectHandler\n",
    "\n",
    "netmikologin = {\n",
    "    'host': '10.1.100.197',\n",
    "    'username': 'admin',\n",
    "    'password': 'Passw0rd1',\n",
    "    'device_type': 'arista_eos',\n",
    "}\n",
    "\n",
    "connection = CustomAristaSSH(**netmikologin)\n",
    "output=connection.send_command('show version',use_textfsm=True)\n",
    "print(output[0]['serial_number'])\n",
    "connection.disconnect()\n"
   ]
  },
  {
   "cell_type": "code",
   "execution_count": 27,
   "id": "a8e204d5",
   "metadata": {},
   "outputs": [],
   "source": [
    "#########################################"
   ]
  },
  {
   "cell_type": "code",
   "execution_count": 28,
   "id": "cd01d505",
   "metadata": {},
   "outputs": [
    {
     "name": "stdout",
     "output_type": "stream",
     "text": [
      "JSH10480533\n"
     ]
    }
   ],
   "source": [
    "##arista eos guncel degil ise:\n",
    "from netmiko.arista.arista import AristaSSH\n",
    "\n",
    "class CustomAristaSSH(AristaSSH):\n",
    "    def session_preparation(self):\n",
    "        \"\"\"Custom session preparation without 'terminal width'.\"\"\"\n",
    "        self._test_channel_read()  # Ensure the channel is ready\n",
    "        self.disable_paging(command=\"terminal length 0\")  # Disable pagination\n",
    "        self.set_base_prompt()  # Set the base prompt for further operations\n",
    "\n",
    "from netmiko import ConnectHandler\n",
    "\n",
    "netmikologin = {\n",
    "    'host': '10.1.100.197',\n",
    "    'username': 'admin',\n",
    "    'password': 'Passw0rd1',\n",
    "    'device_type': 'arista_eos',\n",
    "}\n",
    "\n",
    "connection = CustomAristaSSH(**netmikologin)\n",
    "output=connection.send_command('show version',use_textfsm=True)\n",
    "print(output[0]['serial_number'])\n",
    "connection.disconnect()\n"
   ]
  },
  {
   "cell_type": "code",
   "execution_count": 29,
   "id": "dd2a0c4b",
   "metadata": {},
   "outputs": [],
   "source": [
    "#########################################"
   ]
  },
  {
   "cell_type": "code",
   "execution_count": null,
   "id": "74ec3228",
   "metadata": {},
   "outputs": [],
   "source": []
  },
  {
   "cell_type": "code",
   "execution_count": null,
   "id": "c7e06800",
   "metadata": {},
   "outputs": [],
   "source": []
  },
  {
   "cell_type": "code",
   "execution_count": null,
   "id": "69b5359d",
   "metadata": {},
   "outputs": [],
   "source": []
  },
  {
   "cell_type": "code",
   "execution_count": null,
   "id": "375c83c8",
   "metadata": {},
   "outputs": [],
   "source": []
  },
  {
   "cell_type": "code",
   "execution_count": null,
   "id": "2f20b980",
   "metadata": {},
   "outputs": [],
   "source": []
  }
 ],
 "metadata": {
  "kernelspec": {
   "display_name": "Python 3 (ipykernel)",
   "language": "python",
   "name": "python3"
  },
  "language_info": {
   "codemirror_mode": {
    "name": "ipython",
    "version": 3
   },
   "file_extension": ".py",
   "mimetype": "text/x-python",
   "name": "python",
   "nbconvert_exporter": "python",
   "pygments_lexer": "ipython3",
   "version": "3.8.8"
  }
 },
 "nbformat": 4,
 "nbformat_minor": 5
}
